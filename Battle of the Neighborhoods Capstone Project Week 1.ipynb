{
 "cells": [
  {
   "cell_type": "markdown",
   "metadata": {},
   "source": [
    "## Battle of the Neighborhoods Capstone Project Week 1"
   ]
  },
  {
   "cell_type": "markdown",
   "metadata": {},
   "source": [
    "## Problem ##\n",
    "There is a groceries distribution center in the Scarborough borough of Toronto. The main service of this distribution center is to provide the local establishments with fresh and high-quality groceries. The distribution center wants to build a warehouse for the groceries it buys from farmers inside the borough so that they will be better equipped to provide the area with better/faster service and better-quality goods.\n",
    "The distribution center should build this warehouse where it is closest to its customers in order to minimize the cost of transportation. which neighborhood (in the Scarborough borough) would be a better choice for the distribution center to build the warehouse. Finding the right neighborhood is our goal!\n",
    "\n",
    "\n",
    "## Data ##\n",
    "We will need geo-locational information about the Scarborough borough and the neighborhoods in that borough. We will first find neighborhoods inside Scarborough by their corresponding Postal Codes.  Then we will need data about different venues in different neighborhoods of that specific borough. In order to gain the desired information.  We will use Foursquare locational information. As basic information, we can obtain its precise latitude and longitude and also its distance from the center of the neighborhood. But we are looking for advanced information such as the category of that venue and whether this venue is a popular one in its category or maybe the average price of the services of this venue. "
   ]
  },
  {
   "cell_type": "code",
   "execution_count": null,
   "metadata": {},
   "outputs": [],
   "source": []
  }
 ],
 "metadata": {
  "kernelspec": {
   "display_name": "Python 3",
   "language": "python",
   "name": "python3"
  },
  "language_info": {
   "codemirror_mode": {
    "name": "ipython",
    "version": 3
   },
   "file_extension": ".py",
   "mimetype": "text/x-python",
   "name": "python",
   "nbconvert_exporter": "python",
   "pygments_lexer": "ipython3",
   "version": "3.6.8"
  }
 },
 "nbformat": 4,
 "nbformat_minor": 2
}
